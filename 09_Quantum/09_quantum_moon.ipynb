{
 "cells": [
  {
   "cell_type": "markdown",
   "metadata": {},
   "source": [
    "# Quantum Computing Moons Example \n",
    "\n",
    "9.1. Follow the tutorial at the `https://pennylane.ai/qml/demos/tutorial_qnn_module_tf.html` and create a quantum neural network to classify the Moons Dataset!\n",
    "\n",
    "9.2. Compare the quantum neural network to a classic neural network!"
   ]
  },
  {
   "cell_type": "code",
   "execution_count": null,
   "metadata": {},
   "outputs": [],
   "source": [
    "!conda install -q scikit-learn\n",
    "!pip install -q pennylane\n",
    "!pip install -q tensorflow\n",
    "!pip install -q matplotlib"
   ]
  },
  {
   "cell_type": "code",
   "execution_count": null,
   "metadata": {},
   "outputs": [],
   "source": [
    "import tensorflow as tf\n",
    "import numpy as np\n",
    "import matplotlib.pyplot as plt\n",
    "import numpy as np\n",
    "from sklearn.datasets import make_moons"
   ]
  },
  {
   "cell_type": "code",
   "execution_count": null,
   "metadata": {},
   "outputs": [],
   "source": [
    "# Set random seeds\n",
    "np.random.seed(42)\n",
    "tf.random.set_seed(42)\n",
    "\n",
    "X, y = make_moons(n_samples=200, noise=0.1)\n",
    "y_hot = tf.keras.utils.to_categorical(y, num_classes=2)  # one-hot encoded labels\n",
    "\n",
    "c = [\"#1f77b4\" if y_ == 0 else \"#ff7f0e\" for y_ in y]  # colours for each class\n",
    "plt.axis(\"off\")\n",
    "plt.scatter(X[:, 0], X[:, 1], c=c)\n",
    "plt.show()"
   ]
  },
  {
   "cell_type": "code",
   "execution_count": null,
   "metadata": {},
   "outputs": [],
   "source": [
    "import pennylane as qml\n",
    "\n",
    "n_qubits = 2\n",
    "dev = qml.device(\"default.qubit\", wires=n_qubits)\n",
    "\n",
    "@qml.qnode(dev)\n",
    "def qnode(inputs, weights):\n",
    "    qml.AngleEmbedding(inputs, wires=range(n_qubits))\n",
    "    qml.BasicEntanglerLayers(weights, wires=range(n_qubits))\n",
    "    return [qml.expval(qml.PauliZ(wires=i)) for i in range(n_qubits)]"
   ]
  },
  {
   "cell_type": "code",
   "execution_count": null,
   "metadata": {},
   "outputs": [],
   "source": [
    "n_layers = 6\n",
    "weight_shapes = {\"weights\": (n_layers, n_qubits)}\n",
    "qlayer = qml.qnn.KerasLayer(qnode, weight_shapes, output_dim=n_qubits)\n",
    "clayer_1 = tf.keras.layers.Dense(2)\n",
    "clayer_2 = tf.keras.layers.Dense(2, activation=\"softmax\")"
   ]
  },
  {
   "cell_type": "markdown",
   "metadata": {},
   "source": [
    "# Model 1 without quantum"
   ]
  },
  {
   "cell_type": "code",
   "execution_count": null,
   "metadata": {},
   "outputs": [],
   "source": [
    "model1 = tf.keras.models.Sequential([clayer_1, qlayer, clayer_2])\n",
    "opt = tf.keras.optimizers.SGD(learning_rate=0.2)\n",
    "model1.compile(opt, loss=\"mae\", metrics=[\"accuracy\"])"
   ]
  },
  {
   "cell_type": "code",
   "execution_count": null,
   "metadata": {},
   "outputs": [],
   "source": [
    "fitting = model1.fit(X, y_hot, epochs=10, batch_size=5, validation_split=0.25,verbose=2)"
   ]
  },
  {
   "cell_type": "markdown",
   "metadata": {},
   "source": [
    "# Model 2 with Quantum"
   ]
  },
  {
   "cell_type": "code",
   "execution_count": null,
   "metadata": {},
   "outputs": [],
   "source": [
    "model2 = tf.keras.models.Sequential([clayer_1, qlayer, clayer_2])\n",
    "opt = tf.keras.optimizers.SGD(learning_rate=0.2)\n",
    "model2.compile(opt, loss=\"mae\", metrics=[\"accuracy\"])"
   ]
  },
  {
   "cell_type": "code",
   "execution_count": null,
   "metadata": {},
   "outputs": [],
   "source": [
    "fitting = model2.fit(X, y_hot, epochs=10, batch_size=5, validation_split=0.25,verbose=2)\n"
   ]
  }
 ],
 "metadata": {
  "interpreter": {
   "hash": "7badcb33b6e19caeee94a4bab3b10e3a23c9d83a491303f167e14515367d1a88"
  },
  "kernelspec": {
   "display_name": "Python 3.9.7 ('qml')",
   "language": "python",
   "name": "python3"
  },
  "language_info": {
   "codemirror_mode": {
    "name": "ipython",
    "version": 3
   },
   "file_extension": ".py",
   "mimetype": "text/x-python",
   "name": "python",
   "nbconvert_exporter": "python",
   "pygments_lexer": "ipython3",
   "version": "3.10.9"
  }
 },
 "nbformat": 4,
 "nbformat_minor": 2
}
